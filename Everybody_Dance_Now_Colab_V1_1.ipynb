{
  "nbformat": 4,
  "nbformat_minor": 0,
  "metadata": {
    "accelerator": "GPU",
    "colab": {
      "name": "Everybody Dance Now Colab V1.1",
      "provenance": [],
      "collapsed_sections": []
    },
    "kernelspec": {
      "display_name": "Python 3",
      "name": "python3"
    }
  },
  "cells": [
    {
      "cell_type": "code",
      "metadata": {
        "cellView": "form",
        "id": "-kdHxjeyUFaw"
      },
      "source": [
        "#@title Mount and Import from Drive\r\n",
        "\r\n",
        "from google.colab import drive\r\n",
        "drive.mount('/content/drive', force_remount=True)\r\n",
        "%cd \"/content/drive/My Drive/Colab_Files/EverybodyDanceNow/\"\r\n"
      ],
      "execution_count": null,
      "outputs": []
    },
    {
      "cell_type": "code",
      "metadata": {
        "cellView": "form",
        "id": "lPk5Yja3UYLy"
      },
      "source": [
        "#@title Check Assigned GPU by Google\r\n",
        "!nvidia-smi"
      ],
      "execution_count": null,
      "outputs": []
    },
    {
      "cell_type": "code",
      "metadata": {
        "id": "TB8Us-fBSMGL",
        "cellView": "form"
      },
      "source": [
        "#@title List the Checkpoint files from Drive\n",
        "%cd ./model_local\n",
        "%ls"
      ],
      "execution_count": null,
      "outputs": []
    },
    {
      "cell_type": "code",
      "metadata": {
        "id": "YgELw1r3NQbZ",
        "cellView": "form"
      },
      "source": [
        "#@title Install some dependencies\r\n",
        "!pip install torch==1.7.1+cu101 torchvision==0.8.2+cu101 torchaudio===0.7.2 -f https://download.pytorch.org/whl/torch_stable.html\r\n",
        "!pip install --user --upgrade tensorflow  \r\n",
        "!pip install dominate"
      ],
      "execution_count": null,
      "outputs": []
    },
    {
      "cell_type": "code",
      "metadata": {
        "id": "FkmD-NonbZe-",
        "cellView": "form"
      },
      "source": [
        "#@title Train Global Stage Model\n",
        "\n",
        "!python3 train_fullts.py \\\n",
        "--name ./model_global \\\n",
        "--dataroot ./dataset/train/ \\\n",
        "--checkpoints_dir ./checkpoints/ \\\n",
        "--loadSize 512 \\\n",
        "--no_instance \\\n",
        "--no_flip \\\n",
        "--tf_log \\\n",
        "--label_nc 6 \\\n",
        "--save_latest_freq 100 \\\n"
      ],
      "execution_count": null,
      "outputs": []
    },
    {
      "cell_type": "code",
      "metadata": {
        "id": "UkU8n7dkO_CH",
        "cellView": "form"
      },
      "source": [
        "#@title Train Local Stage Model\r\n",
        "\r\n",
        "!python3 train_fullts.py \\\r\n",
        "--name ./model_local/ \\\r\n",
        "--dataroot ./dataset/train/  \\\r\n",
        "--checkpoints_dir ./checkpoints/ \\\r\n",
        "--loadSize 1024 \\\r\n",
        "--no_instance \\\r\n",
        "--no_flip \\\r\n",
        "--tf_log \\\r\n",
        "--netG local \\\r\n",
        "--ngf 32 \\\r\n",
        "--num_D 3 \\\r\n",
        "--label_nc 6 \\\r\n",
        "--resize_or_crop none \\\r\n",
        "--save_latest_freq 100 \\\r\n",
        "--save_epoch_freq 1 \\\r\n",
        "--print_freq 10 \\\r\n",
        "--continue_train  \r\n",
        "#--load_pretrain ./checkpoints/model_local/ \\\r\n"
      ],
      "execution_count": null,
      "outputs": []
    },
    {
      "cell_type": "code",
      "metadata": {
        "id": "C7d4ZzKm52bA",
        "cellView": "form"
      },
      "source": [
        "#@title Train Local Stage Model with Face Generator and Discriminator\r\n",
        "\r\n",
        "!python3 train_fullts.py \\\r\n",
        "--name ./model_local/ \\\r\n",
        "--dataroot ./dataset/train/  \\\r\n",
        "--checkpoints_dir ./checkpoints/ \\\r\n",
        "--load_pretrain ./checkpoints/model_local/ \\\r\n",
        "--loadSize 1024 \\\r\n",
        "--face_discrim \\\r\n",
        "--face_generator \\\r\n",
        "--faceGtype global \\\r\n",
        "--niter_fix_main 10 \\\r\n",
        "--netG local \\\r\n",
        "--ngf 32 \\\r\n",
        "--num_D 3 \\\r\n",
        "--resize_or_crop none \\\r\n",
        "--no_instance \\\r\n",
        "--no_flip \\\r\n",
        "--tf_log \\\r\n",
        "--label_nc 6 \\\r\n",
        "--save_latest_freq 100 \\\r\n",
        "--continue_train \\"
      ],
      "execution_count": null,
      "outputs": []
    },
    {
      "cell_type": "code",
      "metadata": {
        "id": "GK2TL79vXzW7",
        "cellView": "form"
      },
      "source": [
        "#@title Test Local Stage Model with Face Generator and Discriminator\r\n",
        "%cd \"/content/drive/My Drive/Colab_Files/EverybodyDanceNow/\"\r\n",
        "\r\n",
        "!python3 test_fullts.py \\\r\n",
        "--name model_local \\\r\n",
        "--dataroot ./dataset/test/ \\\r\n",
        "--load_pretrain ./checkpoints/model_local \\\r\n",
        "--results_dir ./result/ \\\r\n",
        "--loadSize 1024 \\\r\n",
        "--face_generator \\\r\n",
        "--faceGtype global \\\r\n",
        "--netG local \\\r\n",
        "--ngf 32 \\\r\n",
        "--resize_or_crop none \\\r\n",
        "--no_instance \\\r\n",
        "--how_many 6000 \\\r\n",
        "--label_nc 6"
      ],
      "execution_count": null,
      "outputs": []
    },
    {
      "cell_type": "code",
      "metadata": {
        "id": "pPIrUCmiApjR",
        "cellView": "form"
      },
      "source": [
        "#@title Test Local Stage Model without Face Generator and Discriminator\r\n",
        "%cd \"/content/drive/My Drive/Colab_Files/EverybodyDanceNow/\"\r\n",
        "\r\n",
        "!python3 test_fullts.py \\\r\n",
        "--name model_local \\\r\n",
        "--dataroot ./dataset/test/ \\\r\n",
        "--checkpoints_dir ./checkpoints/ \\\r\n",
        "--results_dir ./result/ \\\r\n",
        "--loadSize 1024 \\\r\n",
        "--netG local \\\r\n",
        "--ngf 32 \\\r\n",
        "--resize_or_crop none \\\r\n",
        "--no_instance \\\r\n",
        "--how_many 10000 \\\r\n",
        "--label_nc 6"
      ],
      "execution_count": null,
      "outputs": []
    },
    {
      "cell_type": "code",
      "metadata": {
        "id": "72fH_e-nBa5c",
        "cellView": "form"
      },
      "source": [
        "#@title Generate images and convert them into result video\r\n",
        "%cd \"/content/drive/My Drive/Colab_Files/EverybodyDanceNow/\"\r\n",
        "\r\n",
        "import glob\r\n",
        "import os\r\n",
        "import re\r\n",
        "import sys\r\n",
        "\r\n",
        "def get_trailing_number(s):\r\n",
        "    m = re.search(r'\\d+$', s)\r\n",
        "    return int(m.group()) if m else None\r\n",
        "  \r\n",
        "# Function to rename multiple files \r\n",
        "def main(mypath, name_stub, len_num, remove): \r\n",
        "\tcount = 0 \r\n",
        "\tfiles = glob.glob(mypath+\"*.json\")\r\n",
        "\tprint(files)\r\n",
        "\tfor current in files:\r\n",
        "\t\tnumber_trailing = re.findall('\\d+',current )\r\n",
        "\t\tnumber_trailing = [s.lstrip(\"0\") for s in number_trailing]\r\n",
        "\t\t\r\n",
        "\t\t#print(number_trailing)\r\n",
        "\t\tif remove==True:\r\n",
        "\t\t\tos.rename(current, mypath+name_stub+str(number_trailing[0]).zfill(len_num)+\"_keypoints\")#+\".json\") \r\n",
        "\t\t\tprint(current, mypath+name_stub+str(number_trailing[0]).zfill(len_num)+\"_keypoints\")\r\n",
        "\t\telse:\r\n",
        "\t\t\tos.rename(current, mypath+name_stub+str(number_trailing[0]).zfill(len_num)+\"_keypoints\"+\".json\") \r\n",
        "\t\t\tprint(current, mypath+name_stub+str(number_trailing[0]).zfill(len_num)+\"_keypoints\"+'.json')\r\n",
        "\t\tcount = count + 1\r\n",
        "\r\n",
        "def main_2(mypath, name_stub, len_num, remove): \r\n",
        "\tcount = 0 \r\n",
        "\tfiles = glob.glob(mypath+\"*.png\")\r\n",
        "\tprint(files)\r\n",
        "\tfor current in files:\r\n",
        "\t\tnumber_trailing = re.findall('\\d+',current )\r\n",
        "\t\tnumber_trailing = [s.lstrip(\"0\") for s in number_trailing]\r\n",
        "\t\t\r\n",
        "\t\tif remove==True:\r\n",
        "\t\t\tos.rename(current, mypath+name_stub+str(number_trailing[0]).zfill(len_num))#+\".jpg\") \r\n",
        "\t\t\tprint(current, mypath+name_stub+str(number_trailing[0]).zfill(len_num))\r\n",
        "\t\telse:\r\n",
        "\t\t\tos.rename(current, mypath+name_stub+str(number_trailing[0]).zfill(len_num)+\".png\") \r\n",
        "\t\t\tprint(current, mypath+name_stub+str(number_trailing[0]).zfill(len_num)+\".png\") \r\n",
        "\t\tcount = count + 1\r\n",
        "  \r\n",
        "# Driver Code \r\n",
        "# Calling main() function, run command ffmpeg -i output_%4d.png  output.avi\r\n",
        "main_2(\"./result/model_local/test_latest/images/\", \"output_\",4, False) \r\n",
        "#main_2(\"./dataset/test/test_label/\", \"frame\",4, False) \r\n",
        "#!apt install ffmpeg\r\n",
        "#!ffmpeg -i ./dataset/test/test_label/frame%04d.png -framerate 24n ./result/label_test.mp4\r\n",
        "!ffmpeg -framerate 24 -i ./result/model_local/test_latest/images/output_%04d.png  -b:v 10M ./result/output.mp4\r\n",
        "print('done!')"
      ],
      "execution_count": null,
      "outputs": []
    },
    {
      "cell_type": "code",
      "metadata": {
        "id": "h6Ox1zqy64kv",
        "cellView": "form"
      },
      "source": [
        "#@title Flush and Unmount Google Drive\r\n",
        "drive.flush_and_unmount()"
      ],
      "execution_count": null,
      "outputs": []
    }
  ]
}