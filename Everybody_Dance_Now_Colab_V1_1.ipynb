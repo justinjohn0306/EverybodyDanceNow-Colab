{
  "nbformat": 4,
  "nbformat_minor": 0,
  "metadata": {
    "accelerator": "GPU",
    "colab": {
      "name": "Everybody Dance Now Colab V1.1.ipynb",
      "provenance": [],
      "collapsed_sections": [
        "_Z-GHeejnO8l",
        "hfYgzT-0NUP0",
        "Eyx4e5UvlDXM",
        "sP2S3Df9lc-k",
        "QaWuNRpMlrO4",
        "hIKwcRcTl939",
        "X2fEiNuZmINF",
        "jYR3X-ZDmPUS",
        "P804X1KemT9k",
        "2E2I6ytymfj6",
        "XYMx-YNSmmuy",
        "IUvAZKSWmvIa"
      ],
      "toc_visible": true,
      "machine_shape": "hm"
    },
    "kernelspec": {
      "display_name": "Python 3",
      "name": "python3"
    }
  },
  "cells": [
    {
      "cell_type": "markdown",
      "metadata": {
        "id": "_Z-GHeejnO8l"
      },
      "source": [
        "## Prevent random disconnects\n",
        "\n",
        "This cell runs JS code to automatic reconnect to runtime."
      ]
    },
    {
      "cell_type": "code",
      "metadata": {
        "id": "dTZVr6tWnQXH"
      },
      "source": [
        "import IPython\n",
        "from google.colab import output\n",
        "\n",
        "display(IPython.display.Javascript('''\n",
        " function ClickConnect(){\n",
        "   btn = document.querySelector(\"colab-connect-button\")\n",
        "   if (btn != null){\n",
        "     console.log(\"Click colab-connect-button\"); \n",
        "     btn.click() \n",
        "     }\n",
        "   \n",
        "   btn = document.getElementById('ok')\n",
        "   if (btn != null){\n",
        "     console.log(\"Click reconnect\"); \n",
        "     btn.click() \n",
        "     }\n",
        "  }\n",
        "  \n",
        "setInterval(ClickConnect,60000)\n",
        "'''))\n",
        "\n",
        "print(\"Done.\")"
      ],
      "execution_count": null,
      "outputs": []
    },
    {
      "cell_type": "markdown",
      "metadata": {
        "id": "hfYgzT-0NUP0"
      },
      "source": [
        "## Check GPU\n",
        "\n",
        "*   Google Colab can provide you with P100 Tesla graphics card everytime\n",
        "*   Here you can check the model of GPU before using EverybodyDanceNow\n"
      ]
    },
    {
      "cell_type": "code",
      "metadata": {
        "id": "pJbYXou6chZf"
      },
      "source": [
        "!nvidia-smi"
      ],
      "execution_count": null,
      "outputs": []
    },
    {
      "cell_type": "markdown",
      "metadata": {
        "id": "Eyx4e5UvlDXM"
      },
      "source": [
        "## Mount and Import from Drive\n",
        "\n",
        "*   You can import dataset or individual data, like model files with Google Drive"
      ]
    },
    {
      "cell_type": "code",
      "metadata": {
        "id": "EN-uFGF5lK7V"
      },
      "source": [
        "from google.colab import drive\n",
        "drive.mount('/content/drive', force_remount=True)\n",
        "%cd \"/content/drive/My Drive/Colab_Files/EverybodyDanceNow/\""
      ],
      "execution_count": null,
      "outputs": []
    },
    {
      "cell_type": "markdown",
      "metadata": {
        "id": "sP2S3Df9lc-k"
      },
      "source": [
        "## List the Checkpoint files from Drive\n",
        "\n",
        "*   List the trained Checkpoint files from Drive"
      ]
    },
    {
      "cell_type": "code",
      "metadata": {
        "id": "c4C3viUZllrJ"
      },
      "source": [
        "%cd ./model_local\n",
        "%ls"
      ],
      "execution_count": null,
      "outputs": []
    },
    {
      "cell_type": "markdown",
      "metadata": {
        "id": "QaWuNRpMlrO4"
      },
      "source": [
        "## Install some dependencies\n",
        "*   Install Python Dependencies "
      ]
    },
    {
      "cell_type": "code",
      "metadata": {
        "id": "dXTnK_ZfltdZ"
      },
      "source": [
        "!pip install torch==1.7.1+cu101 torchvision==0.8.2+cu101 torchaudio===0.7.2 -f https://download.pytorch.org/whl/torch_stable.html\n",
        "!pip install --user --upgrade tensorflow  \n",
        "!pip install dominate"
      ],
      "execution_count": null,
      "outputs": []
    },
    {
      "cell_type": "markdown",
      "metadata": {
        "id": "hIKwcRcTl939"
      },
      "source": [
        "## Train Global Stage Model\n",
        "*   Feel free to edit the path and other parameters accordingly by clicking this cell"
      ]
    },
    {
      "cell_type": "code",
      "metadata": {
        "id": "6UFxPk4-mDvX"
      },
      "source": [
        "!python3 train_fullts.py \\\n",
        "--name ./model_global \\\n",
        "--dataroot ./dataset/train/ \\\n",
        "--checkpoints_dir ./checkpoints/ \\\n",
        "--loadSize 512 \\\n",
        "--no_instance \\\n",
        "--no_flip \\\n",
        "--tf_log \\\n",
        "--label_nc 6 \\\n",
        "--save_latest_freq 100 \\"
      ],
      "execution_count": null,
      "outputs": []
    },
    {
      "cell_type": "markdown",
      "metadata": {
        "id": "X2fEiNuZmINF"
      },
      "source": [
        "## Train Local Stage Model\n",
        "*   Feel free to edit the path and other parameters accordingly by clicking this cell"
      ]
    },
    {
      "cell_type": "code",
      "metadata": {
        "id": "zEZaa2ItmMfE"
      },
      "source": [
        "!python3 train_fullts.py \\\n",
        "--name ./model_local/ \\\n",
        "--dataroot ./dataset/train/  \\\n",
        "--checkpoints_dir ./checkpoints/ \\\n",
        "--loadSize 1024 \\\n",
        "--no_instance \\\n",
        "--no_flip \\\n",
        "--tf_log \\\n",
        "--netG local \\\n",
        "--ngf 32 \\\n",
        "--num_D 3 \\\n",
        "--label_nc 6 \\\n",
        "--resize_or_crop none \\\n",
        "--save_latest_freq 100 \\\n",
        "--save_epoch_freq 1 \\\n",
        "--print_freq 10 \\\n",
        "--continue_train  \n",
        "#--load_pretrain ./checkpoints/model_local/ \\\n"
      ],
      "execution_count": null,
      "outputs": []
    },
    {
      "cell_type": "markdown",
      "metadata": {
        "id": "jYR3X-ZDmPUS"
      },
      "source": [
        "## Train Local Stage Model with Face Generator and Discriminator\n",
        "*   Feel free to edit the path and other parameters accordingly by clicking this cell"
      ]
    },
    {
      "cell_type": "code",
      "metadata": {
        "id": "wYTnknEYmRTa"
      },
      "source": [
        "!python3 train_fullts.py \\\n",
        "--name ./model_local/ \\\n",
        "--dataroot ./dataset/train/  \\\n",
        "--checkpoints_dir ./checkpoints/ \\\n",
        "--load_pretrain ./checkpoints/model_local/ \\\n",
        "--loadSize 1024 \\\n",
        "--face_discrim \\\n",
        "--face_generator \\\n",
        "--faceGtype global \\\n",
        "--niter_fix_main 10 \\\n",
        "--netG local \\\n",
        "--ngf 32 \\\n",
        "--num_D 3 \\\n",
        "--resize_or_crop none \\\n",
        "--no_instance \\\n",
        "--no_flip \\\n",
        "--tf_log \\\n",
        "--label_nc 6 \\\n",
        "--save_latest_freq 100 \\\n",
        "--continue_train \\"
      ],
      "execution_count": null,
      "outputs": []
    },
    {
      "cell_type": "markdown",
      "metadata": {
        "id": "P804X1KemT9k"
      },
      "source": [
        "## Test Local Stage Model with Face Generator and Discriminator\n",
        "*   Feel free to edit the path and other parameters accordingly by clicking this cell"
      ]
    },
    {
      "cell_type": "code",
      "metadata": {
        "id": "VTfzX7xwmXts"
      },
      "source": [
        "%cd \"/content/drive/My Drive/Colab_Files/EverybodyDanceNow/\"\n",
        "\n",
        "!python3 test_fullts.py \\\n",
        "--name model_local \\\n",
        "--dataroot ./dataset/test/ \\\n",
        "--load_pretrain ./checkpoints/model_local \\\n",
        "--results_dir ./result/ \\\n",
        "--loadSize 1024 \\\n",
        "--face_generator \\\n",
        "--faceGtype global \\\n",
        "--netG local \\\n",
        "--ngf 32 \\\n",
        "--resize_or_crop none \\\n",
        "--no_instance \\\n",
        "--how_many 6000 \\\n",
        "--label_nc 6"
      ],
      "execution_count": null,
      "outputs": []
    },
    {
      "cell_type": "markdown",
      "metadata": {
        "id": "2E2I6ytymfj6"
      },
      "source": [
        "## Test Local Stage Model without Face Generator and Discriminator\n",
        "*   Feel free to edit the path and other parameters accordingly by clicking this cell"
      ]
    },
    {
      "cell_type": "code",
      "metadata": {
        "id": "xWG4WSuxmh4y"
      },
      "source": [
        "%cd \"/content/drive/My Drive/Colab_Files/EverybodyDanceNow/\"\n",
        "\n",
        "!python3 test_fullts.py \\\n",
        "--name model_local \\\n",
        "--dataroot ./dataset/test/ \\\n",
        "--checkpoints_dir ./checkpoints/ \\\n",
        "--results_dir ./result/ \\\n",
        "--loadSize 1024 \\\n",
        "--netG local \\\n",
        "--ngf 32 \\\n",
        "--resize_or_crop none \\\n",
        "--no_instance \\\n",
        "--how_many 10000 \\\n",
        "--label_nc 6"
      ],
      "execution_count": null,
      "outputs": []
    },
    {
      "cell_type": "markdown",
      "metadata": {
        "id": "XYMx-YNSmmuy"
      },
      "source": [
        "## Generate images and convert them into result video\n",
        "*   Umm...duh"
      ]
    },
    {
      "cell_type": "code",
      "metadata": {
        "id": "qK5ROLVXmqnG"
      },
      "source": [
        "%cd \"/content/drive/My Drive/Colab_Files/EverybodyDanceNow/\"\n",
        "\n",
        "import glob\n",
        "import os\n",
        "import re\n",
        "import sys\n",
        "\n",
        "def get_trailing_number(s):\n",
        "    m = re.search(r'\\d+$', s)\n",
        "    return int(m.group()) if m else None\n",
        "  \n",
        "# Function to rename multiple files \n",
        "def main(mypath, name_stub, len_num, remove): \n",
        "\tcount = 0 \n",
        "\tfiles = glob.glob(mypath+\"*.json\")\n",
        "\tprint(files)\n",
        "\tfor current in files:\n",
        "\t\tnumber_trailing = re.findall('\\d+',current )\n",
        "\t\tnumber_trailing = [s.lstrip(\"0\") for s in number_trailing]\n",
        "\t\t\n",
        "\t\t#print(number_trailing)\n",
        "\t\tif remove==True:\n",
        "\t\t\tos.rename(current, mypath+name_stub+str(number_trailing[0]).zfill(len_num)+\"_keypoints\")#+\".json\") \n",
        "\t\t\tprint(current, mypath+name_stub+str(number_trailing[0]).zfill(len_num)+\"_keypoints\")\n",
        "\t\telse:\n",
        "\t\t\tos.rename(current, mypath+name_stub+str(number_trailing[0]).zfill(len_num)+\"_keypoints\"+\".json\") \n",
        "\t\t\tprint(current, mypath+name_stub+str(number_trailing[0]).zfill(len_num)+\"_keypoints\"+'.json')\n",
        "\t\tcount = count + 1\n",
        "\n",
        "def main_2(mypath, name_stub, len_num, remove): \n",
        "\tcount = 0 \n",
        "\tfiles = glob.glob(mypath+\"*.png\")\n",
        "\tprint(files)\n",
        "\tfor current in files:\n",
        "\t\tnumber_trailing = re.findall('\\d+',current )\n",
        "\t\tnumber_trailing = [s.lstrip(\"0\") for s in number_trailing]\n",
        "\t\t\n",
        "\t\tif remove==True:\n",
        "\t\t\tos.rename(current, mypath+name_stub+str(number_trailing[0]).zfill(len_num))#+\".jpg\") \n",
        "\t\t\tprint(current, mypath+name_stub+str(number_trailing[0]).zfill(len_num))\n",
        "\t\telse:\n",
        "\t\t\tos.rename(current, mypath+name_stub+str(number_trailing[0]).zfill(len_num)+\".png\") \n",
        "\t\t\tprint(current, mypath+name_stub+str(number_trailing[0]).zfill(len_num)+\".png\") \n",
        "\t\tcount = count + 1\n",
        "  \n",
        "# Driver Code \n",
        "# Calling main() function, run command ffmpeg -i output_%4d.png  output.avi\n",
        "main_2(\"./result/model_local/test_latest/images/\", \"output_\",4, False) \n",
        "#main_2(\"./dataset/test/test_label/\", \"frame\",4, False) \n",
        "#!apt install ffmpeg\n",
        "#!ffmpeg -i ./dataset/test/test_label/frame%04d.png -framerate 24n ./result/label_test.mp4\n",
        "!ffmpeg -framerate 24 -i ./result/model_local/test_latest/images/output_%04d.png  -b:v 10M ./result/output.mp4\n",
        "print('done!')"
      ],
      "execution_count": null,
      "outputs": []
    },
    {
      "cell_type": "markdown",
      "metadata": {
        "id": "IUvAZKSWmvIa"
      },
      "source": [
        "## Flush and Unmount Google Drive\n",
        "*   Hopefully it's done..open Drive to see the results"
      ]
    },
    {
      "cell_type": "code",
      "metadata": {
        "id": "zKx6edYgm0CW"
      },
      "source": [
        "drive.flush_and_unmount()"
      ],
      "execution_count": null,
      "outputs": []
    }
  ]
}